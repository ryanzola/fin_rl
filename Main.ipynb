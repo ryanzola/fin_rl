{
 "cells": [
  {
   "cell_type": "markdown",
   "id": "fce3502f-f263-4fab-89cd-204f046b5cad",
   "metadata": {},
   "source": [
    "# FinRL Data Wrangle"
   ]
  },
  {
   "cell_type": "markdown",
   "id": "ca6989e6-0f13-483d-a103-1089e6b46178",
   "metadata": {},
   "source": [
    "## Install and Import Packages"
   ]
  },
  {
   "cell_type": "code",
   "execution_count": null,
   "id": "1595708f-51c2-468a-aa79-ab4ecbdb2383",
   "metadata": {},
   "outputs": [],
   "source": [
    "%pip install swig\n",
    "%pip install wrds\n",
    "%pip install pyportfolioopt\n",
    "%pip install yfinance\n",
    "%pip install box2d-py"
   ]
  },
  {
   "cell_type": "code",
   "execution_count": null,
   "id": "93bfdb71-d909-42c2-a982-2730f71d4992",
   "metadata": {},
   "outputs": [],
   "source": [
    "# finrl\n",
    "%pip install git+https://github.com/AI4Finance-Foundation/FinRL.git"
   ]
  },
  {
   "cell_type": "code",
   "execution_count": 23,
   "id": "d1838297-d162-49f9-b643-43265ec4e8bf",
   "metadata": {},
   "outputs": [],
   "source": [
    "import os\n",
    "import pandas as pd\n",
    "import numpy as np\n",
    "import datetime\n",
    "import yfinance as yf\n",
    "\n",
    "from finrl.meta.preprocessor.yahoodownloader import YahooDownloader\n",
    "from finrl.meta.preprocessor.preprocessors import FeatureEngineer, data_split\n",
    "from finrl import config_tickers\n",
    "from finrl.config import INDICATORS\n",
    "\n",
    "import itertools"
   ]
  },
  {
   "cell_type": "code",
   "execution_count": 7,
   "id": "dbe6b806-f961-4942-9fde-298d685831ef",
   "metadata": {},
   "outputs": [],
   "source": [
    "TRAIN_START_DATE = '2009-01-01'\n",
    "TRAIN_END_DATE = '2020-07-01'\n",
    "TRADE_START_DATE = '2020-07-01'\n",
    "TRADE_END_DATE = '2023-05-01'"
   ]
  },
  {
   "cell_type": "code",
   "execution_count": 8,
   "id": "3977a159-a5ee-40ce-b8de-a518b3519d36",
   "metadata": {},
   "outputs": [],
   "source": [
    "symbols = [\n",
    "    'aapl',\n",
    "    'msft',\n",
    "    'meta',\n",
    "    'ibm',\n",
    "    'hd',\n",
    "    'cat',\n",
    "    'amzn',\n",
    "    'intc',\n",
    "    't',\n",
    "    'v',\n",
    "    'gs'\n",
    "]"
   ]
  },
  {
   "cell_type": "code",
   "execution_count": 17,
   "id": "484cb9d7-5bfb-4ed5-8dc1-099a7bd90b1a",
   "metadata": {},
   "outputs": [
    {
     "name": "stdout",
     "output_type": "stream",
     "text": [
      "[*********************100%***********************]  1 of 1 completed\n",
      "[*********************100%***********************]  1 of 1 completed\n",
      "[*********************100%***********************]  1 of 1 completed\n",
      "[*********************100%***********************]  1 of 1 completed\n",
      "[*********************100%***********************]  1 of 1 completed\n",
      "[*********************100%***********************]  1 of 1 completed\n",
      "[*********************100%***********************]  1 of 1 completed\n",
      "[*********************100%***********************]  1 of 1 completed\n",
      "[*********************100%***********************]  1 of 1 completed\n",
      "[*********************100%***********************]  1 of 1 completed\n",
      "[*********************100%***********************]  1 of 1 completed\n",
      "Shape of DataFrame:  (38804, 8)\n"
     ]
    }
   ],
   "source": [
    "df_raw = YahooDownloader(start_date=TRAIN_START_DATE,\n",
    "                         end_date=TRADE_END_DATE,\n",
    "                         ticker_list=symbols).fetch_data()"
   ]
  },
  {
   "cell_type": "code",
   "execution_count": 18,
   "id": "be5f24fb-db66-4663-a37d-e68d6fe21385",
   "metadata": {},
   "outputs": [
    {
     "data": {
      "text/html": [
       "<div>\n",
       "<style scoped>\n",
       "    .dataframe tbody tr th:only-of-type {\n",
       "        vertical-align: middle;\n",
       "    }\n",
       "\n",
       "    .dataframe tbody tr th {\n",
       "        vertical-align: top;\n",
       "    }\n",
       "\n",
       "    .dataframe thead th {\n",
       "        text-align: right;\n",
       "    }\n",
       "</style>\n",
       "<table border=\"1\" class=\"dataframe\">\n",
       "  <thead>\n",
       "    <tr style=\"text-align: right;\">\n",
       "      <th></th>\n",
       "      <th>date</th>\n",
       "      <th>open</th>\n",
       "      <th>high</th>\n",
       "      <th>low</th>\n",
       "      <th>close</th>\n",
       "      <th>volume</th>\n",
       "      <th>tic</th>\n",
       "      <th>day</th>\n",
       "    </tr>\n",
       "  </thead>\n",
       "  <tbody>\n",
       "    <tr>\n",
       "      <th>0</th>\n",
       "      <td>2009-01-02</td>\n",
       "      <td>3.067143</td>\n",
       "      <td>3.251429</td>\n",
       "      <td>3.041429</td>\n",
       "      <td>2.754725</td>\n",
       "      <td>746015200</td>\n",
       "      <td>aapl</td>\n",
       "      <td>4</td>\n",
       "    </tr>\n",
       "    <tr>\n",
       "      <th>1</th>\n",
       "      <td>2009-01-02</td>\n",
       "      <td>2.567500</td>\n",
       "      <td>2.726500</td>\n",
       "      <td>2.553500</td>\n",
       "      <td>2.718000</td>\n",
       "      <td>145928000</td>\n",
       "      <td>amzn</td>\n",
       "      <td>4</td>\n",
       "    </tr>\n",
       "    <tr>\n",
       "      <th>2</th>\n",
       "      <td>2009-01-02</td>\n",
       "      <td>44.910000</td>\n",
       "      <td>46.980000</td>\n",
       "      <td>44.709999</td>\n",
       "      <td>31.254074</td>\n",
       "      <td>7117200</td>\n",
       "      <td>cat</td>\n",
       "      <td>4</td>\n",
       "    </tr>\n",
       "    <tr>\n",
       "      <th>3</th>\n",
       "      <td>2009-01-02</td>\n",
       "      <td>84.019997</td>\n",
       "      <td>87.620003</td>\n",
       "      <td>82.190002</td>\n",
       "      <td>68.728455</td>\n",
       "      <td>14088500</td>\n",
       "      <td>gs</td>\n",
       "      <td>4</td>\n",
       "    </tr>\n",
       "    <tr>\n",
       "      <th>4</th>\n",
       "      <td>2009-01-02</td>\n",
       "      <td>23.070000</td>\n",
       "      <td>24.190001</td>\n",
       "      <td>22.959999</td>\n",
       "      <td>16.867977</td>\n",
       "      <td>14902500</td>\n",
       "      <td>hd</td>\n",
       "      <td>4</td>\n",
       "    </tr>\n",
       "  </tbody>\n",
       "</table>\n",
       "</div>"
      ],
      "text/plain": [
       "         date       open       high        low      close     volume   tic  \\\n",
       "0  2009-01-02   3.067143   3.251429   3.041429   2.754725  746015200  aapl   \n",
       "1  2009-01-02   2.567500   2.726500   2.553500   2.718000  145928000  amzn   \n",
       "2  2009-01-02  44.910000  46.980000  44.709999  31.254074    7117200   cat   \n",
       "3  2009-01-02  84.019997  87.620003  82.190002  68.728455   14088500    gs   \n",
       "4  2009-01-02  23.070000  24.190001  22.959999  16.867977   14902500    hd   \n",
       "\n",
       "   day  \n",
       "0    4  \n",
       "1    4  \n",
       "2    4  \n",
       "3    4  \n",
       "4    4  "
      ]
     },
     "execution_count": 18,
     "metadata": {},
     "output_type": "execute_result"
    }
   ],
   "source": [
    "df_raw.head()"
   ]
  },
  {
   "cell_type": "markdown",
   "id": "90392d89-da61-46fa-801a-189bb221773a",
   "metadata": {},
   "source": [
    "## Preprocess Data"
   ]
  },
  {
   "cell_type": "code",
   "execution_count": 19,
   "id": "e7cd32fc-bf14-4d6c-8ae4-e7446ed204b5",
   "metadata": {},
   "outputs": [
    {
     "name": "stdout",
     "output_type": "stream",
     "text": [
      "Successfully added technical indicators\n",
      "[*********************100%***********************]  1 of 1 completed\n",
      "Shape of DataFrame:  (3604, 8)\n",
      "Successfully added vix\n",
      "Successfully added turbulence index\n"
     ]
    }
   ],
   "source": [
    "fe = FeatureEngineer(use_technical_indicator=True,\n",
    "                     tech_indicator_list=INDICATORS,\n",
    "                     use_vix=True,\n",
    "                     use_turbulence=True,\n",
    "                     user_defined_feature=False)\n",
    "\n",
    "processed = fe.preprocess_data(df_raw)"
   ]
  },
  {
   "cell_type": "code",
   "execution_count": 20,
   "id": "e1c3d6d3-b4eb-41f2-96de-e8cb54f3b159",
   "metadata": {},
   "outputs": [],
   "source": [
    "list_ticker = processed['tic'].unique().tolist()\n",
    "list_date = list(pd.date_range(processed['date'].min(), processed['date'].max()).astype(str))\n",
    "combination = list(itertools.product(list_date, list_ticker))\n",
    "\n",
    "processed_full = pd.DataFrame(combination, columns=['date', 'tic']).merge(processed, on=['date', 'tic'], how='left')\n",
    "processed_full = processed_full[processed_full['date'].isin(processed['date'])]\n",
    "processed_full = processed_full.sort_values(['date', 'tic'])\n",
    "\n",
    "processed_full = processed_full.fillna(0)"
   ]
  },
  {
   "cell_type": "code",
   "execution_count": 21,
   "id": "b71d4637-0f7a-4c57-8c5c-13b9e3577d44",
   "metadata": {},
   "outputs": [
    {
     "data": {
      "text/html": [
       "<div>\n",
       "<style scoped>\n",
       "    .dataframe tbody tr th:only-of-type {\n",
       "        vertical-align: middle;\n",
       "    }\n",
       "\n",
       "    .dataframe tbody tr th {\n",
       "        vertical-align: top;\n",
       "    }\n",
       "\n",
       "    .dataframe thead th {\n",
       "        text-align: right;\n",
       "    }\n",
       "</style>\n",
       "<table border=\"1\" class=\"dataframe\">\n",
       "  <thead>\n",
       "    <tr style=\"text-align: right;\">\n",
       "      <th></th>\n",
       "      <th>date</th>\n",
       "      <th>tic</th>\n",
       "      <th>open</th>\n",
       "      <th>high</th>\n",
       "      <th>low</th>\n",
       "      <th>close</th>\n",
       "      <th>volume</th>\n",
       "      <th>day</th>\n",
       "      <th>macd</th>\n",
       "      <th>boll_ub</th>\n",
       "      <th>boll_lb</th>\n",
       "      <th>rsi_30</th>\n",
       "      <th>cci_30</th>\n",
       "      <th>dx_30</th>\n",
       "      <th>close_30_sma</th>\n",
       "      <th>close_60_sma</th>\n",
       "      <th>vix</th>\n",
       "      <th>turbulence</th>\n",
       "    </tr>\n",
       "  </thead>\n",
       "  <tbody>\n",
       "    <tr>\n",
       "      <th>52285</th>\n",
       "      <td>2023-04-27</td>\n",
       "      <td>ibm</td>\n",
       "      <td>126.370003</td>\n",
       "      <td>127.019997</td>\n",
       "      <td>125.459999</td>\n",
       "      <td>125.261978</td>\n",
       "      <td>3204900.0</td>\n",
       "      <td>3.0</td>\n",
       "      <td>-0.810753</td>\n",
       "      <td>131.359867</td>\n",
       "      <td>122.257901</td>\n",
       "      <td>44.911367</td>\n",
       "      <td>-38.300138</td>\n",
       "      <td>1.220107</td>\n",
       "      <td>126.039049</td>\n",
       "      <td>127.767372</td>\n",
       "      <td>17.030001</td>\n",
       "      <td>6.717467</td>\n",
       "    </tr>\n",
       "    <tr>\n",
       "      <th>52286</th>\n",
       "      <td>2023-04-27</td>\n",
       "      <td>intc</td>\n",
       "      <td>28.750000</td>\n",
       "      <td>29.950001</td>\n",
       "      <td>28.510000</td>\n",
       "      <td>29.738222</td>\n",
       "      <td>60186200.0</td>\n",
       "      <td>3.0</td>\n",
       "      <td>-0.018936</td>\n",
       "      <td>34.073824</td>\n",
       "      <td>28.771821</td>\n",
       "      <td>50.727395</td>\n",
       "      <td>-66.298183</td>\n",
       "      <td>13.482737</td>\n",
       "      <td>30.712564</td>\n",
       "      <td>28.907981</td>\n",
       "      <td>17.030001</td>\n",
       "      <td>6.717467</td>\n",
       "    </tr>\n",
       "    <tr>\n",
       "      <th>52287</th>\n",
       "      <td>2023-04-27</td>\n",
       "      <td>msft</td>\n",
       "      <td>295.970001</td>\n",
       "      <td>305.200012</td>\n",
       "      <td>295.250000</td>\n",
       "      <td>304.165070</td>\n",
       "      <td>46462600.0</td>\n",
       "      <td>3.0</td>\n",
       "      <td>5.129207</td>\n",
       "      <td>298.397082</td>\n",
       "      <td>275.275828</td>\n",
       "      <td>63.072930</td>\n",
       "      <td>228.831807</td>\n",
       "      <td>42.136850</td>\n",
       "      <td>283.165982</td>\n",
       "      <td>270.070638</td>\n",
       "      <td>17.030001</td>\n",
       "      <td>6.717467</td>\n",
       "    </tr>\n",
       "    <tr>\n",
       "      <th>52288</th>\n",
       "      <td>2023-04-27</td>\n",
       "      <td>t</td>\n",
       "      <td>17.379999</td>\n",
       "      <td>17.629999</td>\n",
       "      <td>17.360001</td>\n",
       "      <td>17.301521</td>\n",
       "      <td>36926900.0</td>\n",
       "      <td>3.0</td>\n",
       "      <td>-0.312020</td>\n",
       "      <td>20.549149</td>\n",
       "      <td>16.734124</td>\n",
       "      <td>42.445889</td>\n",
       "      <td>-124.911611</td>\n",
       "      <td>49.531457</td>\n",
       "      <td>18.421052</td>\n",
       "      <td>18.442977</td>\n",
       "      <td>17.030001</td>\n",
       "      <td>6.717467</td>\n",
       "    </tr>\n",
       "    <tr>\n",
       "      <th>52289</th>\n",
       "      <td>2023-04-27</td>\n",
       "      <td>v</td>\n",
       "      <td>228.669998</td>\n",
       "      <td>229.630005</td>\n",
       "      <td>226.610001</td>\n",
       "      <td>228.564392</td>\n",
       "      <td>7128200.0</td>\n",
       "      <td>3.0</td>\n",
       "      <td>1.988247</td>\n",
       "      <td>236.272077</td>\n",
       "      <td>222.418667</td>\n",
       "      <td>54.153809</td>\n",
       "      <td>27.347515</td>\n",
       "      <td>4.300545</td>\n",
       "      <td>226.222294</td>\n",
       "      <td>224.769116</td>\n",
       "      <td>17.030001</td>\n",
       "      <td>6.717467</td>\n",
       "    </tr>\n",
       "  </tbody>\n",
       "</table>\n",
       "</div>"
      ],
      "text/plain": [
       "             date   tic        open        high         low       close  \\\n",
       "52285  2023-04-27   ibm  126.370003  127.019997  125.459999  125.261978   \n",
       "52286  2023-04-27  intc   28.750000   29.950001   28.510000   29.738222   \n",
       "52287  2023-04-27  msft  295.970001  305.200012  295.250000  304.165070   \n",
       "52288  2023-04-27     t   17.379999   17.629999   17.360001   17.301521   \n",
       "52289  2023-04-27     v  228.669998  229.630005  226.610001  228.564392   \n",
       "\n",
       "           volume  day      macd     boll_ub     boll_lb     rsi_30  \\\n",
       "52285   3204900.0  3.0 -0.810753  131.359867  122.257901  44.911367   \n",
       "52286  60186200.0  3.0 -0.018936   34.073824   28.771821  50.727395   \n",
       "52287  46462600.0  3.0  5.129207  298.397082  275.275828  63.072930   \n",
       "52288  36926900.0  3.0 -0.312020   20.549149   16.734124  42.445889   \n",
       "52289   7128200.0  3.0  1.988247  236.272077  222.418667  54.153809   \n",
       "\n",
       "           cci_30      dx_30  close_30_sma  close_60_sma        vix  \\\n",
       "52285  -38.300138   1.220107    126.039049    127.767372  17.030001   \n",
       "52286  -66.298183  13.482737     30.712564     28.907981  17.030001   \n",
       "52287  228.831807  42.136850    283.165982    270.070638  17.030001   \n",
       "52288 -124.911611  49.531457     18.421052     18.442977  17.030001   \n",
       "52289   27.347515   4.300545    226.222294    224.769116  17.030001   \n",
       "\n",
       "       turbulence  \n",
       "52285    6.717467  \n",
       "52286    6.717467  \n",
       "52287    6.717467  \n",
       "52288    6.717467  \n",
       "52289    6.717467  "
      ]
     },
     "execution_count": 21,
     "metadata": {},
     "output_type": "execute_result"
    }
   ],
   "source": [
    "processed_full.tail()"
   ]
  },
  {
   "cell_type": "markdown",
   "id": "37a9c497-341d-47c3-b41d-8b69686e18dd",
   "metadata": {},
   "source": [
    "## Save the data"
   ]
  },
  {
   "cell_type": "code",
   "execution_count": 22,
   "id": "f0779be6-a120-461c-af26-ec8e206a85d0",
   "metadata": {},
   "outputs": [
    {
     "name": "stdout",
     "output_type": "stream",
     "text": [
      "28930\n",
      "7110\n"
     ]
    }
   ],
   "source": [
    "# Split the data\n",
    "train = data_split(processed_full, TRAIN_START_DATE, TRAIN_END_DATE)\n",
    "trade = data_split(processed_full, TRADE_START_DATE, TRADE_END_DATE)\n",
    "\n",
    "print(len(train))\n",
    "print(len(trade))"
   ]
  },
  {
   "cell_type": "code",
   "execution_count": 26,
   "id": "05871b52-a89a-4b5d-8d49-c30deb5087d9",
   "metadata": {},
   "outputs": [],
   "source": [
    "log_dir = \"data/\"\n",
    "train_path = os.path.join('data', 'train_data.csv')\n",
    "trade_path = os.path.join('data', 'trade_data.csv')\n",
    "\n",
    "with open(train_path, 'w', encoding = 'utf-8-sig') as f:\n",
    "    train.to_csv(f)\n",
    "    \n",
    "with open(trade_path, 'w', encoding = 'utf-8-sig') as f:\n",
    "    trade.to_csv(f)"
   ]
  },
  {
   "cell_type": "code",
   "execution_count": null,
   "id": "9d54e20f-63fc-4025-87d2-5dc4322d4213",
   "metadata": {},
   "outputs": [],
   "source": []
  }
 ],
 "metadata": {
  "kernelspec": {
   "display_name": "fin_rl_env",
   "language": "python",
   "name": "fin_rl_env"
  },
  "language_info": {
   "codemirror_mode": {
    "name": "ipython",
    "version": 3
   },
   "file_extension": ".py",
   "mimetype": "text/x-python",
   "name": "python",
   "nbconvert_exporter": "python",
   "pygments_lexer": "ipython3",
   "version": "3.10.9"
  }
 },
 "nbformat": 4,
 "nbformat_minor": 5
}
