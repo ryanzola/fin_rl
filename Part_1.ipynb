{
 "cells": [
  {
   "cell_type": "markdown",
   "id": "731a4272-84c7-4a6a-a842-b89f1753b693",
   "metadata": {},
   "source": [
    "# FinRL\n",
    "\n",
    "## Part 1\n",
    "\n",
    "Install and Import Packages"
   ]
  },
  {
   "cell_type": "code",
   "execution_count": null,
   "id": "14796bf4-5989-4c20-8f84-00c417d3c0e6",
   "metadata": {},
   "outputs": [],
   "source": [
    "%pip install swig\n",
    "%pip install wrds\n",
    "%pip install pyportfolioopt\n",
    "%pip install yfinance\n",
    "%pip install box2d-py"
   ]
  },
  {
   "cell_type": "code",
   "execution_count": null,
   "id": "64d28c43-2d77-4f3c-9f4d-c0f98e7a9d57",
   "metadata": {},
   "outputs": [],
   "source": [
    "# finrl\n",
    "%pip install git+https://github.com/AI4Finance-Foundation/FinRL.git"
   ]
  },
  {
   "cell_type": "code",
   "execution_count": 14,
   "id": "45ad433f-bfbc-4696-9267-973b88e8d92c",
   "metadata": {},
   "outputs": [],
   "source": [
    "import os\n",
    "import pandas as pd\n",
    "\n",
    "import numpy as np\n",
    "import datetime\n",
    "import yfinance as yf\n",
    "\n",
    "from finrl.meta.preprocessor.yahoodownloader import YahooDownloader\n",
    "from finrl.meta.preprocessor.preprocessors import FeatureEngineer, data_split\n",
    "from finrl import config_tickers\n",
    "from finrl.config import INDICATORS\n",
    "\n",
    "import itertools"
   ]
  },
  {
   "cell_type": "code",
   "execution_count": 23,
   "id": "58fae2a3-d343-4cb9-b3e6-83687dde04d6",
   "metadata": {},
   "outputs": [],
   "source": [
    "TRAIN_START_DATE = '2009-01-01'\n",
    "TRAIN_END_DATE = '2020-07-01'\n",
    "TRADE_START_DATE = '2020-07-01'\n",
    "TRADE_END_DATE = '2023-05-01'"
   ]
  },
  {
   "cell_type": "code",
   "execution_count": 28,
   "id": "6e2b3814-bbb5-426e-a7cc-b41e022ec88a",
   "metadata": {},
   "outputs": [],
   "source": [
    "symbols = [\n",
    "    'tsla',\n",
    "    'msft',\n",
    "    'nvda',\n",
    "    'crsp',\n",
    "    'googl',\n",
    "    'mstr',\n",
    "    'btc'\n",
    "]"
   ]
  },
  {
   "cell_type": "code",
   "execution_count": 29,
   "id": "fa2549c7-83b0-4ace-93ff-d8acce2b3c70",
   "metadata": {},
   "outputs": [
    {
     "name": "stdout",
     "output_type": "stream",
     "text": [
      "[*********************100%***********************]  1 of 1 completed\n",
      "[*********************100%***********************]  1 of 1 completed\n",
      "[*********************100%***********************]  1 of 1 completed\n",
      "[*********************100%***********************]  1 of 1 completed\n",
      "[*********************100%***********************]  1 of 1 completed\n",
      "[*********************100%***********************]  1 of 1 completed\n",
      "[*********************100%***********************]  1 of 1 completed\n",
      "Shape of DataFrame:  (19941, 8)\n"
     ]
    }
   ],
   "source": [
    "df_raw = YahooDownloader(start_date=TRAIN_START_DATE,\n",
    "                         end_date=TRADE_END_DATE,\n",
    "                         ticker_list=symbols).fetch_data()"
   ]
  },
  {
   "cell_type": "code",
   "execution_count": 30,
   "id": "de5d1862-b37f-4202-b0e6-c394185ecf36",
   "metadata": {},
   "outputs": [
    {
     "data": {
      "text/html": [
       "<div>\n",
       "<style scoped>\n",
       "    .dataframe tbody tr th:only-of-type {\n",
       "        vertical-align: middle;\n",
       "    }\n",
       "\n",
       "    .dataframe tbody tr th {\n",
       "        vertical-align: top;\n",
       "    }\n",
       "\n",
       "    .dataframe thead th {\n",
       "        text-align: right;\n",
       "    }\n",
       "</style>\n",
       "<table border=\"1\" class=\"dataframe\">\n",
       "  <thead>\n",
       "    <tr style=\"text-align: right;\">\n",
       "      <th></th>\n",
       "      <th>date</th>\n",
       "      <th>open</th>\n",
       "      <th>high</th>\n",
       "      <th>low</th>\n",
       "      <th>close</th>\n",
       "      <th>volume</th>\n",
       "      <th>tic</th>\n",
       "      <th>day</th>\n",
       "    </tr>\n",
       "  </thead>\n",
       "  <tbody>\n",
       "    <tr>\n",
       "      <th>0</th>\n",
       "      <td>2009-01-02</td>\n",
       "      <td>7.722723</td>\n",
       "      <td>8.053554</td>\n",
       "      <td>7.645145</td>\n",
       "      <td>8.041041</td>\n",
       "      <td>144275580</td>\n",
       "      <td>googl</td>\n",
       "      <td>4</td>\n",
       "    </tr>\n",
       "    <tr>\n",
       "      <th>1</th>\n",
       "      <td>2009-01-02</td>\n",
       "      <td>19.530001</td>\n",
       "      <td>20.400000</td>\n",
       "      <td>19.370001</td>\n",
       "      <td>15.097111</td>\n",
       "      <td>50084000</td>\n",
       "      <td>msft</td>\n",
       "      <td>4</td>\n",
       "    </tr>\n",
       "    <tr>\n",
       "      <th>2</th>\n",
       "      <td>2009-01-02</td>\n",
       "      <td>37.200001</td>\n",
       "      <td>37.820000</td>\n",
       "      <td>36.990002</td>\n",
       "      <td>37.279999</td>\n",
       "      <td>56000</td>\n",
       "      <td>mstr</td>\n",
       "      <td>4</td>\n",
       "    </tr>\n",
       "    <tr>\n",
       "      <th>3</th>\n",
       "      <td>2009-01-02</td>\n",
       "      <td>2.017500</td>\n",
       "      <td>2.192500</td>\n",
       "      <td>2.010000</td>\n",
       "      <td>1.997859</td>\n",
       "      <td>49712400</td>\n",
       "      <td>nvda</td>\n",
       "      <td>4</td>\n",
       "    </tr>\n",
       "    <tr>\n",
       "      <th>4</th>\n",
       "      <td>2009-01-05</td>\n",
       "      <td>8.033033</td>\n",
       "      <td>8.289289</td>\n",
       "      <td>7.882883</td>\n",
       "      <td>8.209459</td>\n",
       "      <td>195364440</td>\n",
       "      <td>googl</td>\n",
       "      <td>0</td>\n",
       "    </tr>\n",
       "  </tbody>\n",
       "</table>\n",
       "</div>"
      ],
      "text/plain": [
       "         date       open       high        low      close     volume    tic  \\\n",
       "0  2009-01-02   7.722723   8.053554   7.645145   8.041041  144275580  googl   \n",
       "1  2009-01-02  19.530001  20.400000  19.370001  15.097111   50084000   msft   \n",
       "2  2009-01-02  37.200001  37.820000  36.990002  37.279999      56000   mstr   \n",
       "3  2009-01-02   2.017500   2.192500   2.010000   1.997859   49712400   nvda   \n",
       "4  2009-01-05   8.033033   8.289289   7.882883   8.209459  195364440  googl   \n",
       "\n",
       "   day  \n",
       "0    4  \n",
       "1    4  \n",
       "2    4  \n",
       "3    4  \n",
       "4    0  "
      ]
     },
     "execution_count": 30,
     "metadata": {},
     "output_type": "execute_result"
    }
   ],
   "source": [
    "df_raw.head()"
   ]
  },
  {
   "cell_type": "markdown",
   "id": "15262e2d-8e96-4ed5-9f93-e5324234d276",
   "metadata": {},
   "source": [
    "### Preprocess Data"
   ]
  },
  {
   "cell_type": "code",
   "execution_count": 31,
   "id": "6f25d1af-cdb6-4aae-85d4-d707f474d268",
   "metadata": {},
   "outputs": [
    {
     "name": "stdout",
     "output_type": "stream",
     "text": [
      "Successfully added technical indicators\n",
      "[*********************100%***********************]  1 of 1 completed\n",
      "Shape of DataFrame:  (3604, 8)\n",
      "Successfully added vix\n",
      "Successfully added turbulence index\n"
     ]
    }
   ],
   "source": [
    "fe = FeatureEngineer(use_technical_indicator=True,\n",
    "                     tech_indicator_list=INDICATORS,\n",
    "                     use_vix=True,\n",
    "                     use_turbulence=True,\n",
    "                     user_defined_feature=False)\n",
    "\n",
    "processed = fe.preprocess_data(df_raw)"
   ]
  },
  {
   "cell_type": "code",
   "execution_count": 32,
   "id": "4c1c9f75-d1e6-44fc-a721-3f1094c12c01",
   "metadata": {},
   "outputs": [],
   "source": [
    "list_ticker = processed['tic'].unique().tolist()\n",
    "list_date = list(pd.date_range(processed['date'].min(), processed['date'].max()).astype(str))\n",
    "combination = list(itertools.product(list_date, list_ticker))\n",
    "\n",
    "processed_full = pd.DataFrame(combination, columns=['date', 'tic']).merge(processed, on=['date', 'tic'], how='left')\n",
    "processed_full = processed_full[processed_full['date'].isin(processed['date'])]\n",
    "processed_full = processed_full.sort_values(['date', 'tic'])\n",
    "\n",
    "processed_full = processed_full.fillna(0)"
   ]
  },
  {
   "cell_type": "markdown",
   "id": "264b6f60-4cff-4cef-ac1c-59e9e1ccb4de",
   "metadata": {},
   "source": [
    "### Save the data"
   ]
  },
  {
   "cell_type": "code",
   "execution_count": 33,
   "id": "75569dcd-d774-4cec-8b38-7dad2aab91bd",
   "metadata": {},
   "outputs": [
    {
     "name": "stdout",
     "output_type": "stream",
     "text": [
      "11572\n",
      "2844\n"
     ]
    }
   ],
   "source": [
    "# Split the data\n",
    "train = data_split(processed_full, TRAIN_START_DATE, TRAIN_END_DATE)\n",
    "trade = data_split(processed_full, TRADE_START_DATE, TRADE_END_DATE)\n",
    "\n",
    "print(len(train))\n",
    "print(len(trade))"
   ]
  },
  {
   "cell_type": "code",
   "execution_count": 34,
   "id": "a702e084-de32-4ec7-8b50-d5135857c3db",
   "metadata": {},
   "outputs": [],
   "source": [
    "log_dir = \"data/\"\n",
    "train_path = os.path.join('data', 'train_data.csv')\n",
    "trade_path = os.path.join('data', 'trade_data.csv')\n",
    "\n",
    "with open(train_path, 'w', encoding = 'utf-8-sig') as f:\n",
    "    train.to_csv(f)\n",
    "    \n",
    "with open(trade_path, 'w', encoding = 'utf-8-sig') as f:\n",
    "    trade.to_csv(f)"
   ]
  }
 ],
 "metadata": {
  "kernelspec": {
   "display_name": "fin_rl_env",
   "language": "python",
   "name": "fin_rl_env"
  },
  "language_info": {
   "codemirror_mode": {
    "name": "ipython",
    "version": 3
   },
   "file_extension": ".py",
   "mimetype": "text/x-python",
   "name": "python",
   "nbconvert_exporter": "python",
   "pygments_lexer": "ipython3",
   "version": "3.10.12"
  }
 },
 "nbformat": 4,
 "nbformat_minor": 5
}
